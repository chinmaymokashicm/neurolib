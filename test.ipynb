{
 "cells": [
  {
   "cell_type": "code",
   "execution_count": 4,
   "metadata": {},
   "outputs": [],
   "source": [
    "from src.imagelib.ipy import explore_image, explore_bids_directory\n",
    "\n",
    "import numpy as np\n",
    "from bids import BIDSLayout"
   ]
  },
  {
   "cell_type": "code",
   "execution_count": 5,
   "metadata": {},
   "outputs": [],
   "source": [
    "bids_dirpath: str = \"/Users/cmokashi/data/bids_datasets/open_neuro/ds004884-1.0.2\"\n",
    "layout: BIDSLayout = BIDSLayout(bids_dirpath)"
   ]
  },
  {
   "cell_type": "code",
   "execution_count": 2,
   "metadata": {},
   "outputs": [
    {
     "name": "stdout",
     "output_type": "stream",
     "text": [
      "Exploring 3D data...\n"
     ]
    },
    {
     "data": {
      "application/vnd.jupyter.widget-view+json": {
       "model_id": "1a11e813313241d9814ab79cd397f193",
       "version_major": 2,
       "version_minor": 0
      },
      "text/plain": [
       "interactive(children=(IntSlider(value=1, description='axis', max=2), IntSlider(value=79, description='slice_id…"
      ]
     },
     "metadata": {},
     "output_type": "display_data"
    }
   ],
   "source": [
    "img_filepath: str = \"/Users/cmokashi/data/bids_datasets/open_neuro/ds004884-1.0.2/sub-M2001/ses-1076/anat/sub-M2001_ses-1076_acq-tfl3_run-4_T1w.nii.gz\"\n",
    "explore_image(img_filepath)"
   ]
  },
  {
   "cell_type": "code",
   "execution_count": 3,
   "metadata": {},
   "outputs": [],
   "source": [
    "dwi_image_filepath: str = \"/Users/cmokashi/data/bids_datasets/open_neuro/ds004884-1.0.2/sub-M2001/ses-1225/dwi/sub-M2001_ses-1225_acq-epb0p2_dir-AP_run-4_dwi.nii.gz\"\n",
    "# explore_image(dwi_image_filepath)"
   ]
  },
  {
   "cell_type": "code",
   "execution_count": 4,
   "metadata": {},
   "outputs": [],
   "source": [
    "# explore_bids_directory(bids_dirpath)"
   ]
  },
  {
   "cell_type": "code",
   "execution_count": 9,
   "metadata": {},
   "outputs": [
    {
     "name": "stdout",
     "output_type": "stream",
     "text": [
      "Exploring 3D data...\n"
     ]
    },
    {
     "data": {
      "application/vnd.jupyter.widget-view+json": {
       "model_id": "82708eec5215490297057b6a7baca57d",
       "version_major": 2,
       "version_minor": 0
      },
      "text/plain": [
       "interactive(children=(IntSlider(value=1, description='axis', max=2), IntSlider(value=79, description='slice_id…"
      ]
     },
     "metadata": {},
     "output_type": "display_data"
    }
   ],
   "source": [
    "img_filepath: str = \"/Users/cmokashi/data/bids_datasets/open_neuro/ds004884-1.0.2/sub-M2001/ses-1253/anat/sub-M2001_ses-1253_acq-spc3_run-3_T2w.nii.gz\"\n",
    "mask_filepath: str = \"/Users/cmokashi/data/bids_datasets/open_neuro/ds004884-1.0.2/derivatives/lesion_masks/sub-M2001/ses-1253/anat/sub-M2001_ses-1253_acq-spc3_run-3_T2w_desc-lesion_mask.nii.gz\"\n",
    "explore_image(img_filepath, mask_filepath)"
   ]
  }
 ],
 "metadata": {
  "kernelspec": {
   "display_name": "imagelib",
   "language": "python",
   "name": "python3"
  },
  "language_info": {
   "codemirror_mode": {
    "name": "ipython",
    "version": 3
   },
   "file_extension": ".py",
   "mimetype": "text/x-python",
   "name": "python",
   "nbconvert_exporter": "python",
   "pygments_lexer": "ipython3",
   "version": "3.12.5"
  }
 },
 "nbformat": 4,
 "nbformat_minor": 2
}
